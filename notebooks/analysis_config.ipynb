{
 "cells": [
  {
   "cell_type": "code",
   "execution_count": 1,
   "metadata": {},
   "outputs": [
    {
     "data": {
      "text/html": [
       "<style type=\"text/css\">\n",
       ".container {\n",
       "    width: 100%;\n",
       "}\n",
       "div#notebook {\n",
       "    padding-top: 1em;\n",
       "}\n",
       "#header-container {\n",
       "    display: none;\n",
       "}\n",
       "#header-bar {\n",
       "    display: none;\n",
       "}\n",
       "#maintoolbar {\n",
       "    display: none;\n",
       "}\n",
       "#menubar-container {\n",
       "    position: fixed;\n",
       "    margin-top: 0;\n",
       "}\n",
       "#site {\n",
       "    height: auto !important;\n",
       "}\n",
       "</style>"
      ],
      "text/plain": [
       "<IPython.core.display.HTML object>"
      ]
     },
     "metadata": {},
     "output_type": "display_data"
    }
   ],
   "source": [
    "%run setup.ipynb\n",
    "import popgen\n",
    "# %reload_ext autoreload\n",
    "# %autoreload 1\n",
    "# %aimport popgen\n",
    "# %aimport popgen.config\n",
    "# %aimport popgen.analysis\n",
    "# %aimport popgen.util"
   ]
  },
  {
   "cell_type": "markdown",
   "metadata": {},
   "source": [
    "## Analysis configuration"
   ]
  },
  {
   "cell_type": "code",
   "execution_count": 2,
   "metadata": {},
   "outputs": [],
   "source": [
    "analysis = popgen.PopulationAnalysis('../data/analysis')"
   ]
  },
  {
   "cell_type": "code",
   "execution_count": 3,
   "metadata": {},
   "outputs": [
    {
     "name": "stdout",
     "output_type": "stream",
     "text": [
      "Setting genome assembly; found 7 chromosomes, total size 273,093,681 bp.\n"
     ]
    }
   ],
   "source": [
    "analysis.set_genome_assembly(\n",
    "    label='AgamP3', \n",
    "    path='../../ngs.sanger.ac.uk/production/ag1000g/phase1/AR3/genome/Anopheles-gambiae-PEST_CHROMOSOMES_AgamP3.fa'\n",
    ")"
   ]
  },
  {
   "cell_type": "code",
   "execution_count": 4,
   "metadata": {},
   "outputs": [
    {
     "name": "stdout",
     "output_type": "stream",
     "text": [
      "Setting genome annotation; found 175,804 features (13,624 genes).\n"
     ]
    }
   ],
   "source": [
    "analysis.set_genome_annotation(\n",
    "    label='AgamP4.2',\n",
    "    path='../../ngs.sanger.ac.uk/production/ag1000g/phase1/AR3/geneset/Anopheles-gambiae-PEST_BASEFEATURES_AgamP4.2.gff3.gz'\n",
    ")"
   ]
  },
  {
   "cell_type": "code",
   "execution_count": 5,
   "metadata": {},
   "outputs": [
    {
     "name": "stdout",
     "output_type": "stream",
     "text": [
      "Setting genome accessibility; found 7 chromosomes, 141,465,876 accessible bp.\n"
     ]
    }
   ],
   "source": [
    "analysis.set_genome_accessibility(\n",
    "    label='Ag1000G Phase 1 AR3 accessibility map',\n",
    "    path='../../ngs.sanger.ac.uk/production/ag1000g/phase1/AR3/accessibility/accessibility.h5'\n",
    ")"
   ]
  },
  {
   "cell_type": "code",
   "execution_count": 6,
   "metadata": {},
   "outputs": [
    {
     "name": "stdout",
     "output_type": "stream",
     "text": [
      "Setting sample table 'main'; found 15 columns, 765 rows.\n"
     ]
    }
   ],
   "source": [
    "analysis.set_sample_table(\n",
    "    path='../../ngs.sanger.ac.uk/production/ag1000g/phase1/AR3/samples/samples.meta.txt', \n",
    "    index_col='ox_code', \n",
    "    format='tsv'\n",
    ")"
   ]
  },
  {
   "cell_type": "code",
   "execution_count": 7,
   "metadata": {},
   "outputs": [
    {
     "name": "stdout",
     "output_type": "stream",
     "text": [
      "Setting sample table 'kdr'; found 1 columns, 765 rows.\n"
     ]
    }
   ],
   "source": [
    "analysis.set_sample_table(\n",
    "    name='kdr',\n",
    "    path='../../ngs.sanger.ac.uk/production/ag1000g/phase1/AR3/samples/samples.kdr.txt', \n",
    "    index_col='ox_code', \n",
    "    format='tsv'\n",
    ")"
   ]
  },
  {
   "cell_type": "code",
   "execution_count": 8,
   "metadata": {},
   "outputs": [
    {
     "name": "stdout",
     "output_type": "stream",
     "text": [
      "Setting callset 'main'; found 5 chromosomes, 765 samples, 52,525,957 variants.\n"
     ]
    }
   ],
   "source": [
    "analysis.set_callset(\n",
    "    label='Ag1000G Phase 1 AR3 PASS SNPs',\n",
    "    path='../../ngs.sanger.ac.uk/production/ag1000g/phase1/AR3.1/variation/main/zarr2/ag1000g.phase1.ar3.pass',\n",
    ")"
   ]
  },
  {
   "cell_type": "code",
   "execution_count": 9,
   "metadata": {},
   "outputs": [
    {
     "data": {
      "image/png": "[encoded data removed]",
      "text/plain": [
       "<matplotlib.figure.Figure at 0x7f26479b5a58>"
      ]
     },
     "metadata": {},
     "output_type": "display_data"
    }
   ],
   "source": [
    "import seaborn as sns\n",
    "palette = sns.color_palette()\n",
    "%matplotlib inline\n",
    "sns.palplot(palette);"
   ]
  },
  {
   "cell_type": "code",
   "execution_count": 10,
   "metadata": {},
   "outputs": [
    {
     "name": "stdout",
     "output_type": "stream",
     "text": [
      "Setting population 'junju'; found 13 samples.\n"
     ]
    }
   ],
   "source": [
    "analysis.set_population(\n",
    "    name='junju', \n",
    "    label='Kilifi-Junju', \n",
    "    query='country == \"Kenya\" and region == \"Kilifi-Junju\"',\n",
    "    color=palette[1],\n",
    ")"
   ]
  },
  {
   "cell_type": "code",
   "execution_count": 11,
   "metadata": {},
   "outputs": [
    {
     "name": "stdout",
     "output_type": "stream",
     "text": [
      "Setting population 'mbogolo'; found 31 samples.\n"
     ]
    }
   ],
   "source": [
    "analysis.set_population(\n",
    "    name='mbogolo', \n",
    "    label='Kilifi-Mbogolo', \n",
    "    query='country == \"Kenya\" and region == \"Kilifi-Mbogolo\"',\n",
    "    color=palette[2],\n",
    ")"
   ]
  },
  {
   "cell_type": "code",
   "execution_count": 12,
   "metadata": {},
   "outputs": [
    {
     "data": {
      "text/plain": [
       "<PopulationAnalysis at '../data/analysis'>"
      ]
     },
     "execution_count": 12,
     "metadata": {},
     "output_type": "execute_result"
    }
   ],
   "source": [
    "analysis"
   ]
  },
  {
   "cell_type": "code",
   "execution_count": 13,
   "metadata": {},
   "outputs": [
    {
     "data": {
      "text/plain": [
       "<YAMLConfigFile at '../data/analysis/config.yml'>\n",
       "callsets:\n",
       "  main:\n",
       "    description: null\n",
       "    format: zarr\n",
       "    genotype_dataset: genotype\n",
       "    label: Ag1000G Phase 1 AR3 PASS SNPs\n",
       "    max_allele: 3\n",
       "    path: ../../ngs.sanger.ac.uk/production/ag1000g/phase1/AR3.1/variation/main/zarr2/ag1000g.phase1.ar3.pass\n",
       "    phased: false\n",
       "    samples_path: samples\n",
       "genome:\n",
       "  accessibility:\n",
       "    dataset: is_accessible\n",
       "    description: null\n",
       "    format: hdf5\n",
       "    label: Ag1000G Phase 1 AR3 accessibility map\n",
       "    path: ../../ngs.sanger.ac.uk/production/ag1000g/phase1/AR3/accessibility/accessibility.h5\n",
       "  annotation:\n",
       "    description: null\n",
       "    format: gff3\n",
       "    label: AgamP4.2\n",
       "    path: ../../ngs.sanger.ac.uk/production/ag1000g/phase1/AR3/geneset/Anopheles-gambiae-PEST_BASEFEATURES_AgamP4.2.gff3.gz\n",
       "  assembly:\n",
       "    description: null\n",
       "    format: fasta\n",
       "    label: AgamP3\n",
       "    path: ../../ngs.sanger.ac.uk/production/ag1000g/phase1/AR3/genome/Anopheles-gambiae-PEST_CHROMOSOMES_AgamP3.fa\n",
       "populations:\n",
       "  junju:\n",
       "    color: '#ff7f0e'\n",
       "    description: null\n",
       "    down_sample: null\n",
       "    label: Kilifi-Junju\n",
       "    marker: o\n",
       "    query: country == \"Kenya\" and region == \"Kilifi-Junju\"\n",
       "    random_seed: 0\n",
       "  mbogolo:\n",
       "    color: '#2ca02c'\n",
       "    description: null\n",
       "    down_sample: null\n",
       "    label: Kilifi-Mbogolo\n",
       "    marker: o\n",
       "    query: country == \"Kenya\" and region == \"Kilifi-Mbogolo\"\n",
       "    random_seed: 0\n",
       "sample_tables:\n",
       "  kdr:\n",
       "    description: null\n",
       "    format: csv\n",
       "    label: kdr\n",
       "    path: ../../ngs.sanger.ac.uk/production/ag1000g/phase1/AR3/samples/samples.kdr.txt\n",
       "    read_kws:\n",
       "      index_col: ox_code\n",
       "      sep: \"\\t\"\n",
       "  main:\n",
       "    description: null\n",
       "    format: csv\n",
       "    label: main\n",
       "    path: ../../ngs.sanger.ac.uk/production/ag1000g/phase1/AR3/samples/samples.meta.txt\n",
       "    read_kws:\n",
       "      index_col: ox_code\n",
       "      sep: \"\\t\""
      ]
     },
     "execution_count": 13,
     "metadata": {},
     "output_type": "execute_result"
    }
   ],
   "source": [
    "analysis.config"
   ]
  },
  {
   "cell_type": "markdown",
   "metadata": {},
   "source": [
    "## Tests"
   ]
  },
  {
   "cell_type": "code",
   "execution_count": 14,
   "metadata": {},
   "outputs": [
    {
     "data": {
      "text/plain": [
       "array([b'a', b'a', b'c', ..., b'a', b'a', b'a'], \n",
       "      dtype='|S1')"
      ]
     },
     "execution_count": 14,
     "metadata": {},
     "output_type": "execute_result"
    }
   ],
   "source": [
    "analysis.load_genome_assembly('2L')"
   ]
  },
  {
   "cell_type": "code",
   "execution_count": 15,
   "metadata": {},
   "outputs": [
    {
     "data": {
      "text/html": [
       "<div>\n",
       "<style>\n",
       "    .dataframe thead tr:only-child th {\n",
       "        text-align: right;\n",
       "    }\n",
       "\n",
       "    .dataframe thead th {\n",
       "        text-align: left;\n",
       "    }\n",
       "\n",
       "    .dataframe tbody tr th {\n",
       "        vertical-align: top;\n",
       "    }\n",
       "</style>\n",
       "<table border=\"1\" class=\"dataframe\">\n",
       "  <thead>\n",
       "    <tr style=\"text-align: right;\">\n",
       "      <th></th>\n",
       "      <th>seqid</th>\n",
       "      <th>source</th>\n",
       "      <th>type</th>\n",
       "      <th>start</th>\n",
       "      <th>end</th>\n",
       "      <th>score</th>\n",
       "      <th>strand</th>\n",
       "      <th>phase</th>\n",
       "      <th>ID</th>\n",
       "      <th>Parent</th>\n",
       "    </tr>\n",
       "  </thead>\n",
       "  <tbody>\n",
       "    <tr>\n",
       "      <th>0</th>\n",
       "      <td>2L</td>\n",
       "      <td>VectorBase</td>\n",
       "      <td>contig</td>\n",
       "      <td>1</td>\n",
       "      <td>49364325</td>\n",
       "      <td>-1</td>\n",
       "      <td>.</td>\n",
       "      <td>-1</td>\n",
       "      <td>2L</td>\n",
       "      <td>b'.'</td>\n",
       "    </tr>\n",
       "    <tr>\n",
       "      <th>1</th>\n",
       "      <td>2L</td>\n",
       "      <td>VectorBase</td>\n",
       "      <td>gene</td>\n",
       "      <td>157348</td>\n",
       "      <td>186936</td>\n",
       "      <td>-1</td>\n",
       "      <td>-</td>\n",
       "      <td>-1</td>\n",
       "      <td>AGAP004677</td>\n",
       "      <td>b'.'</td>\n",
       "    </tr>\n",
       "    <tr>\n",
       "      <th>2</th>\n",
       "      <td>2L</td>\n",
       "      <td>VectorBase</td>\n",
       "      <td>mRNA</td>\n",
       "      <td>157348</td>\n",
       "      <td>186936</td>\n",
       "      <td>-1</td>\n",
       "      <td>-</td>\n",
       "      <td>-1</td>\n",
       "      <td>AGAP004677-RB</td>\n",
       "      <td>AGAP004677</td>\n",
       "    </tr>\n",
       "    <tr>\n",
       "      <th>3</th>\n",
       "      <td>2L</td>\n",
       "      <td>VectorBase</td>\n",
       "      <td>exon</td>\n",
       "      <td>186860</td>\n",
       "      <td>186936</td>\n",
       "      <td>-1</td>\n",
       "      <td>-</td>\n",
       "      <td>-1</td>\n",
       "      <td>AGAP004677-RB-E1B</td>\n",
       "      <td>AGAP004677-RB</td>\n",
       "    </tr>\n",
       "    <tr>\n",
       "      <th>4</th>\n",
       "      <td>2L</td>\n",
       "      <td>VectorBase</td>\n",
       "      <td>exon</td>\n",
       "      <td>159192</td>\n",
       "      <td>159366</td>\n",
       "      <td>-1</td>\n",
       "      <td>-</td>\n",
       "      <td>-1</td>\n",
       "      <td>AGAP004677-RB-E2B</td>\n",
       "      <td>AGAP004677-RB</td>\n",
       "    </tr>\n",
       "  </tbody>\n",
       "</table>\n",
       "</div>"
      ],
      "text/plain": [
       "  seqid      source    type   start       end  score strand  phase  \\\n",
       "0    2L  VectorBase  contig       1  49364325     -1      .     -1   \n",
       "1    2L  VectorBase    gene  157348    186936     -1      -     -1   \n",
       "2    2L  VectorBase    mRNA  157348    186936     -1      -     -1   \n",
       "3    2L  VectorBase    exon  186860    186936     -1      -     -1   \n",
       "4    2L  VectorBase    exon  159192    159366     -1      -     -1   \n",
       "\n",
       "                  ID         Parent  \n",
       "0                 2L           b'.'  \n",
       "1         AGAP004677           b'.'  \n",
       "2      AGAP004677-RB     AGAP004677  \n",
       "3  AGAP004677-RB-E1B  AGAP004677-RB  \n",
       "4  AGAP004677-RB-E2B  AGAP004677-RB  "
      ]
     },
     "execution_count": 15,
     "metadata": {},
     "output_type": "execute_result"
    }
   ],
   "source": [
    "analysis.load_genome_annotation().head()"
   ]
  },
  {
   "cell_type": "code",
   "execution_count": 16,
   "metadata": {},
   "outputs": [
    {
     "data": {
      "text/plain": [
       "array([False, False, False, ..., False, False, False], dtype=bool)"
      ]
     },
     "execution_count": 16,
     "metadata": {},
     "output_type": "execute_result"
    }
   ],
   "source": [
    "analysis.load_genome_accessibility('2L')"
   ]
  },
  {
   "cell_type": "code",
   "execution_count": 17,
   "metadata": {},
   "outputs": [
    {
     "data": {
      "text/html": [
       "<div>\n",
       "<style>\n",
       "    .dataframe thead tr:only-child th {\n",
       "        text-align: right;\n",
       "    }\n",
       "\n",
       "    .dataframe thead th {\n",
       "        text-align: left;\n",
       "    }\n",
       "\n",
       "    .dataframe tbody tr th {\n",
       "        vertical-align: top;\n",
       "    }\n",
       "</style>\n",
       "<table border=\"1\" class=\"dataframe\">\n",
       "  <thead>\n",
       "    <tr style=\"text-align: right;\">\n",
       "      <th></th>\n",
       "      <th>index</th>\n",
       "      <th>src_code</th>\n",
       "      <th>sra_sample_accession</th>\n",
       "      <th>population</th>\n",
       "      <th>country</th>\n",
       "      <th>region</th>\n",
       "      <th>contributor</th>\n",
       "      <th>contact</th>\n",
       "      <th>year</th>\n",
       "      <th>m_s</th>\n",
       "      <th>sex</th>\n",
       "      <th>n_sequences</th>\n",
       "      <th>mean_coverage</th>\n",
       "      <th>latitude</th>\n",
       "      <th>longitude</th>\n",
       "    </tr>\n",
       "    <tr>\n",
       "      <th>ox_code</th>\n",
       "      <th></th>\n",
       "      <th></th>\n",
       "      <th></th>\n",
       "      <th></th>\n",
       "      <th></th>\n",
       "      <th></th>\n",
       "      <th></th>\n",
       "      <th></th>\n",
       "      <th></th>\n",
       "      <th></th>\n",
       "      <th></th>\n",
       "      <th></th>\n",
       "      <th></th>\n",
       "      <th></th>\n",
       "      <th></th>\n",
       "    </tr>\n",
       "  </thead>\n",
       "  <tbody>\n",
       "    <tr>\n",
       "      <th>AB0085-C</th>\n",
       "      <td>0</td>\n",
       "      <td>BF2-4</td>\n",
       "      <td>ERS223996</td>\n",
       "      <td>BFS</td>\n",
       "      <td>Burkina Faso</td>\n",
       "      <td>Pala</td>\n",
       "      <td>Austin Burt</td>\n",
       "      <td>Sam O'Loughlin</td>\n",
       "      <td>2012</td>\n",
       "      <td>S</td>\n",
       "      <td>F</td>\n",
       "      <td>89905852</td>\n",
       "      <td>28.01</td>\n",
       "      <td>11.150</td>\n",
       "      <td>-4.235</td>\n",
       "    </tr>\n",
       "    <tr>\n",
       "      <th>AB0087-C</th>\n",
       "      <td>1</td>\n",
       "      <td>BF3-3</td>\n",
       "      <td>ERS224013</td>\n",
       "      <td>BFM</td>\n",
       "      <td>Burkina Faso</td>\n",
       "      <td>Bana</td>\n",
       "      <td>Austin Burt</td>\n",
       "      <td>Sam O'Loughlin</td>\n",
       "      <td>2012</td>\n",
       "      <td>M</td>\n",
       "      <td>F</td>\n",
       "      <td>116706234</td>\n",
       "      <td>36.76</td>\n",
       "      <td>11.233</td>\n",
       "      <td>-4.472</td>\n",
       "    </tr>\n",
       "    <tr>\n",
       "      <th>AB0088-C</th>\n",
       "      <td>2</td>\n",
       "      <td>BF3-5</td>\n",
       "      <td>ERS223991</td>\n",
       "      <td>BFM</td>\n",
       "      <td>Burkina Faso</td>\n",
       "      <td>Bana</td>\n",
       "      <td>Austin Burt</td>\n",
       "      <td>Sam O'Loughlin</td>\n",
       "      <td>2012</td>\n",
       "      <td>M</td>\n",
       "      <td>F</td>\n",
       "      <td>112090460</td>\n",
       "      <td>23.30</td>\n",
       "      <td>11.233</td>\n",
       "      <td>-4.472</td>\n",
       "    </tr>\n",
       "    <tr>\n",
       "      <th>AB0089-C</th>\n",
       "      <td>3</td>\n",
       "      <td>BF3-8</td>\n",
       "      <td>ERS224031</td>\n",
       "      <td>BFM</td>\n",
       "      <td>Burkina Faso</td>\n",
       "      <td>Bana</td>\n",
       "      <td>Austin Burt</td>\n",
       "      <td>Sam O'Loughlin</td>\n",
       "      <td>2012</td>\n",
       "      <td>M</td>\n",
       "      <td>F</td>\n",
       "      <td>145350454</td>\n",
       "      <td>41.36</td>\n",
       "      <td>11.233</td>\n",
       "      <td>-4.472</td>\n",
       "    </tr>\n",
       "    <tr>\n",
       "      <th>AB0090-C</th>\n",
       "      <td>4</td>\n",
       "      <td>BF3-10</td>\n",
       "      <td>ERS223936</td>\n",
       "      <td>BFM</td>\n",
       "      <td>Burkina Faso</td>\n",
       "      <td>Bana</td>\n",
       "      <td>Austin Burt</td>\n",
       "      <td>Sam O'Loughlin</td>\n",
       "      <td>2012</td>\n",
       "      <td>M</td>\n",
       "      <td>F</td>\n",
       "      <td>105012254</td>\n",
       "      <td>34.64</td>\n",
       "      <td>11.233</td>\n",
       "      <td>-4.472</td>\n",
       "    </tr>\n",
       "  </tbody>\n",
       "</table>\n",
       "</div>"
      ],
      "text/plain": [
       "          index src_code sra_sample_accession population       country region  \\\n",
       "ox_code                                                                         \n",
       "AB0085-C      0    BF2-4            ERS223996        BFS  Burkina Faso   Pala   \n",
       "AB0087-C      1    BF3-3            ERS224013        BFM  Burkina Faso   Bana   \n",
       "AB0088-C      2    BF3-5            ERS223991        BFM  Burkina Faso   Bana   \n",
       "AB0089-C      3    BF3-8            ERS224031        BFM  Burkina Faso   Bana   \n",
       "AB0090-C      4   BF3-10            ERS223936        BFM  Burkina Faso   Bana   \n",
       "\n",
       "          contributor         contact  year m_s sex  n_sequences  \\\n",
       "ox_code                                                            \n",
       "AB0085-C  Austin Burt  Sam O'Loughlin  2012   S   F     89905852   \n",
       "AB0087-C  Austin Burt  Sam O'Loughlin  2012   M   F    116706234   \n",
       "AB0088-C  Austin Burt  Sam O'Loughlin  2012   M   F    112090460   \n",
       "AB0089-C  Austin Burt  Sam O'Loughlin  2012   M   F    145350454   \n",
       "AB0090-C  Austin Burt  Sam O'Loughlin  2012   M   F    105012254   \n",
       "\n",
       "          mean_coverage  latitude  longitude  \n",
       "ox_code                                       \n",
       "AB0085-C          28.01    11.150     -4.235  \n",
       "AB0087-C          36.76    11.233     -4.472  \n",
       "AB0088-C          23.30    11.233     -4.472  \n",
       "AB0089-C          41.36    11.233     -4.472  \n",
       "AB0090-C          34.64    11.233     -4.472  "
      ]
     },
     "execution_count": 17,
     "metadata": {},
     "output_type": "execute_result"
    }
   ],
   "source": [
    "analysis.load_sample_table().head()"
   ]
  },
  {
   "cell_type": "code",
   "execution_count": 18,
   "metadata": {},
   "outputs": [
    {
     "data": {
      "text/html": [
       "<div>\n",
       "<style>\n",
       "    .dataframe thead tr:only-child th {\n",
       "        text-align: right;\n",
       "    }\n",
       "\n",
       "    .dataframe thead th {\n",
       "        text-align: left;\n",
       "    }\n",
       "\n",
       "    .dataframe tbody tr th {\n",
       "        vertical-align: top;\n",
       "    }\n",
       "</style>\n",
       "<table border=\"1\" class=\"dataframe\">\n",
       "  <thead>\n",
       "    <tr style=\"text-align: right;\">\n",
       "      <th></th>\n",
       "      <th>index</th>\n",
       "      <th>src_code</th>\n",
       "      <th>sra_sample_accession</th>\n",
       "      <th>population</th>\n",
       "      <th>country</th>\n",
       "      <th>region</th>\n",
       "      <th>contributor</th>\n",
       "      <th>contact</th>\n",
       "      <th>year</th>\n",
       "      <th>m_s</th>\n",
       "      <th>sex</th>\n",
       "      <th>n_sequences</th>\n",
       "      <th>mean_coverage</th>\n",
       "      <th>latitude</th>\n",
       "      <th>longitude</th>\n",
       "      <th>kdr_1014</th>\n",
       "    </tr>\n",
       "    <tr>\n",
       "      <th>ox_code</th>\n",
       "      <th></th>\n",
       "      <th></th>\n",
       "      <th></th>\n",
       "      <th></th>\n",
       "      <th></th>\n",
       "      <th></th>\n",
       "      <th></th>\n",
       "      <th></th>\n",
       "      <th></th>\n",
       "      <th></th>\n",
       "      <th></th>\n",
       "      <th></th>\n",
       "      <th></th>\n",
       "      <th></th>\n",
       "      <th></th>\n",
       "      <th></th>\n",
       "    </tr>\n",
       "  </thead>\n",
       "  <tbody>\n",
       "    <tr>\n",
       "      <th>AB0085-C</th>\n",
       "      <td>0</td>\n",
       "      <td>BF2-4</td>\n",
       "      <td>ERS223996</td>\n",
       "      <td>BFS</td>\n",
       "      <td>Burkina Faso</td>\n",
       "      <td>Pala</td>\n",
       "      <td>Austin Burt</td>\n",
       "      <td>Sam O'Loughlin</td>\n",
       "      <td>2012</td>\n",
       "      <td>S</td>\n",
       "      <td>F</td>\n",
       "      <td>89905852</td>\n",
       "      <td>28.01</td>\n",
       "      <td>11.150</td>\n",
       "      <td>-4.235</td>\n",
       "      <td>F/F</td>\n",
       "    </tr>\n",
       "    <tr>\n",
       "      <th>AB0087-C</th>\n",
       "      <td>1</td>\n",
       "      <td>BF3-3</td>\n",
       "      <td>ERS224013</td>\n",
       "      <td>BFM</td>\n",
       "      <td>Burkina Faso</td>\n",
       "      <td>Bana</td>\n",
       "      <td>Austin Burt</td>\n",
       "      <td>Sam O'Loughlin</td>\n",
       "      <td>2012</td>\n",
       "      <td>M</td>\n",
       "      <td>F</td>\n",
       "      <td>116706234</td>\n",
       "      <td>36.76</td>\n",
       "      <td>11.233</td>\n",
       "      <td>-4.472</td>\n",
       "      <td>+/F</td>\n",
       "    </tr>\n",
       "    <tr>\n",
       "      <th>AB0088-C</th>\n",
       "      <td>2</td>\n",
       "      <td>BF3-5</td>\n",
       "      <td>ERS223991</td>\n",
       "      <td>BFM</td>\n",
       "      <td>Burkina Faso</td>\n",
       "      <td>Bana</td>\n",
       "      <td>Austin Burt</td>\n",
       "      <td>Sam O'Loughlin</td>\n",
       "      <td>2012</td>\n",
       "      <td>M</td>\n",
       "      <td>F</td>\n",
       "      <td>112090460</td>\n",
       "      <td>23.30</td>\n",
       "      <td>11.233</td>\n",
       "      <td>-4.472</td>\n",
       "      <td>F/F</td>\n",
       "    </tr>\n",
       "    <tr>\n",
       "      <th>AB0089-C</th>\n",
       "      <td>3</td>\n",
       "      <td>BF3-8</td>\n",
       "      <td>ERS224031</td>\n",
       "      <td>BFM</td>\n",
       "      <td>Burkina Faso</td>\n",
       "      <td>Bana</td>\n",
       "      <td>Austin Burt</td>\n",
       "      <td>Sam O'Loughlin</td>\n",
       "      <td>2012</td>\n",
       "      <td>M</td>\n",
       "      <td>F</td>\n",
       "      <td>145350454</td>\n",
       "      <td>41.36</td>\n",
       "      <td>11.233</td>\n",
       "      <td>-4.472</td>\n",
       "      <td>F/F</td>\n",
       "    </tr>\n",
       "    <tr>\n",
       "      <th>AB0090-C</th>\n",
       "      <td>4</td>\n",
       "      <td>BF3-10</td>\n",
       "      <td>ERS223936</td>\n",
       "      <td>BFM</td>\n",
       "      <td>Burkina Faso</td>\n",
       "      <td>Bana</td>\n",
       "      <td>Austin Burt</td>\n",
       "      <td>Sam O'Loughlin</td>\n",
       "      <td>2012</td>\n",
       "      <td>M</td>\n",
       "      <td>F</td>\n",
       "      <td>105012254</td>\n",
       "      <td>34.64</td>\n",
       "      <td>11.233</td>\n",
       "      <td>-4.472</td>\n",
       "      <td>+/F</td>\n",
       "    </tr>\n",
       "  </tbody>\n",
       "</table>\n",
       "</div>"
      ],
      "text/plain": [
       "          index src_code sra_sample_accession population       country region  \\\n",
       "ox_code                                                                         \n",
       "AB0085-C      0    BF2-4            ERS223996        BFS  Burkina Faso   Pala   \n",
       "AB0087-C      1    BF3-3            ERS224013        BFM  Burkina Faso   Bana   \n",
       "AB0088-C      2    BF3-5            ERS223991        BFM  Burkina Faso   Bana   \n",
       "AB0089-C      3    BF3-8            ERS224031        BFM  Burkina Faso   Bana   \n",
       "AB0090-C      4   BF3-10            ERS223936        BFM  Burkina Faso   Bana   \n",
       "\n",
       "          contributor         contact  year m_s sex  n_sequences  \\\n",
       "ox_code                                                            \n",
       "AB0085-C  Austin Burt  Sam O'Loughlin  2012   S   F     89905852   \n",
       "AB0087-C  Austin Burt  Sam O'Loughlin  2012   M   F    116706234   \n",
       "AB0088-C  Austin Burt  Sam O'Loughlin  2012   M   F    112090460   \n",
       "AB0089-C  Austin Burt  Sam O'Loughlin  2012   M   F    145350454   \n",
       "AB0090-C  Austin Burt  Sam O'Loughlin  2012   M   F    105012254   \n",
       "\n",
       "          mean_coverage  latitude  longitude kdr_1014  \n",
       "ox_code                                                \n",
       "AB0085-C          28.01    11.150     -4.235      F/F  \n",
       "AB0087-C          36.76    11.233     -4.472      +/F  \n",
       "AB0088-C          23.30    11.233     -4.472      F/F  \n",
       "AB0089-C          41.36    11.233     -4.472      F/F  \n",
       "AB0090-C          34.64    11.233     -4.472      +/F  "
      ]
     },
     "execution_count": 18,
     "metadata": {},
     "output_type": "execute_result"
    }
   ],
   "source": [
    "analysis.join_sample_tables().head()"
   ]
  },
  {
   "cell_type": "code",
   "execution_count": null,
   "metadata": {},
   "outputs": [],
   "source": []
  }
 ],
 "metadata": {
  "kernelspec": {
   "display_name": "Python 3",
   "language": "python",
   "name": "python3"
  },
  "language_info": {
   "codemirror_mode": {
    "name": "ipython",
    "version": 3
   },
   "file_extension": ".py",
   "mimetype": "text/x-python",
   "name": "python",
   "nbconvert_exporter": "python",
   "pygments_lexer": "ipython3",
   "version": "3.6.2"
  }
 },
 "nbformat": 4,
 "nbformat_minor": 2
}
